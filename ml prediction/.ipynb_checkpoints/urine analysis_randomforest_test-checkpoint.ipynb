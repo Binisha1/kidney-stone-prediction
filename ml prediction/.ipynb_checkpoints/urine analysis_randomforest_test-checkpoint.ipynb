{
 "cells": [
  {
   "cell_type": "code",
   "execution_count": 2,
   "id": "edbff6cc",
   "metadata": {},
   "outputs": [],
   "source": [
    "import pandas as pd\n",
    "import numpy as np\n",
    "import seaborn as sns\n",
    "import matplotlib.pyplot as plt"
   ]
  },
  {
   "cell_type": "code",
   "execution_count": 3,
   "id": "8b5c1d90",
   "metadata": {},
   "outputs": [
    {
     "data": {
      "text/html": [
       "<div>\n",
       "<style scoped>\n",
       "    .dataframe tbody tr th:only-of-type {\n",
       "        vertical-align: middle;\n",
       "    }\n",
       "\n",
       "    .dataframe tbody tr th {\n",
       "        vertical-align: top;\n",
       "    }\n",
       "\n",
       "    .dataframe thead th {\n",
       "        text-align: right;\n",
       "    }\n",
       "</style>\n",
       "<table border=\"1\" class=\"dataframe\">\n",
       "  <thead>\n",
       "    <tr style=\"text-align: right;\">\n",
       "      <th></th>\n",
       "      <th>gravity</th>\n",
       "      <th>ph</th>\n",
       "      <th>osmo</th>\n",
       "      <th>cond</th>\n",
       "      <th>urea</th>\n",
       "      <th>calc</th>\n",
       "      <th>target</th>\n",
       "    </tr>\n",
       "  </thead>\n",
       "  <tbody>\n",
       "    <tr>\n",
       "      <th>0</th>\n",
       "      <td>1.021000</td>\n",
       "      <td>4.910000</td>\n",
       "      <td>725</td>\n",
       "      <td>14.000000</td>\n",
       "      <td>443</td>\n",
       "      <td>2.450000</td>\n",
       "      <td>0</td>\n",
       "    </tr>\n",
       "    <tr>\n",
       "      <th>1</th>\n",
       "      <td>1.017000</td>\n",
       "      <td>5.740000</td>\n",
       "      <td>577</td>\n",
       "      <td>20.000000</td>\n",
       "      <td>296</td>\n",
       "      <td>4.490000</td>\n",
       "      <td>0</td>\n",
       "    </tr>\n",
       "    <tr>\n",
       "      <th>2</th>\n",
       "      <td>1.008000</td>\n",
       "      <td>7.200000</td>\n",
       "      <td>321</td>\n",
       "      <td>14.900000</td>\n",
       "      <td>101</td>\n",
       "      <td>2.360000</td>\n",
       "      <td>0</td>\n",
       "    </tr>\n",
       "    <tr>\n",
       "      <th>3</th>\n",
       "      <td>1.011000</td>\n",
       "      <td>5.510000</td>\n",
       "      <td>408</td>\n",
       "      <td>12.600000</td>\n",
       "      <td>224</td>\n",
       "      <td>2.150000</td>\n",
       "      <td>0</td>\n",
       "    </tr>\n",
       "    <tr>\n",
       "      <th>4</th>\n",
       "      <td>1.005000</td>\n",
       "      <td>6.520000</td>\n",
       "      <td>187</td>\n",
       "      <td>7.500000</td>\n",
       "      <td>91</td>\n",
       "      <td>1.160000</td>\n",
       "      <td>0</td>\n",
       "    </tr>\n",
       "    <tr>\n",
       "      <th>...</th>\n",
       "      <td>...</td>\n",
       "      <td>...</td>\n",
       "      <td>...</td>\n",
       "      <td>...</td>\n",
       "      <td>...</td>\n",
       "      <td>...</td>\n",
       "      <td>...</td>\n",
       "    </tr>\n",
       "    <tr>\n",
       "      <th>85</th>\n",
       "      <td>1.021452</td>\n",
       "      <td>5.556081</td>\n",
       "      <td>756</td>\n",
       "      <td>24.241481</td>\n",
       "      <td>367</td>\n",
       "      <td>7.669120</td>\n",
       "      <td>1</td>\n",
       "    </tr>\n",
       "    <tr>\n",
       "      <th>86</th>\n",
       "      <td>1.016501</td>\n",
       "      <td>6.900257</td>\n",
       "      <td>549</td>\n",
       "      <td>20.549790</td>\n",
       "      <td>204</td>\n",
       "      <td>5.775256</td>\n",
       "      <td>1</td>\n",
       "    </tr>\n",
       "    <tr>\n",
       "      <th>87</th>\n",
       "      <td>1.032754</td>\n",
       "      <td>5.443491</td>\n",
       "      <td>1085</td>\n",
       "      <td>23.188653</td>\n",
       "      <td>576</td>\n",
       "      <td>8.664169</td>\n",
       "      <td>1</td>\n",
       "    </tr>\n",
       "    <tr>\n",
       "      <th>88</th>\n",
       "      <td>1.023870</td>\n",
       "      <td>5.106433</td>\n",
       "      <td>325</td>\n",
       "      <td>12.124689</td>\n",
       "      <td>50</td>\n",
       "      <td>0.781620</td>\n",
       "      <td>1</td>\n",
       "    </tr>\n",
       "    <tr>\n",
       "      <th>89</th>\n",
       "      <td>1.013723</td>\n",
       "      <td>6.308943</td>\n",
       "      <td>472</td>\n",
       "      <td>16.907792</td>\n",
       "      <td>174</td>\n",
       "      <td>2.556405</td>\n",
       "      <td>1</td>\n",
       "    </tr>\n",
       "  </tbody>\n",
       "</table>\n",
       "<p>90 rows × 7 columns</p>\n",
       "</div>"
      ],
      "text/plain": [
       "     gravity        ph  osmo       cond  urea      calc  target\n",
       "0   1.021000  4.910000   725  14.000000   443  2.450000       0\n",
       "1   1.017000  5.740000   577  20.000000   296  4.490000       0\n",
       "2   1.008000  7.200000   321  14.900000   101  2.360000       0\n",
       "3   1.011000  5.510000   408  12.600000   224  2.150000       0\n",
       "4   1.005000  6.520000   187   7.500000    91  1.160000       0\n",
       "..       ...       ...   ...        ...   ...       ...     ...\n",
       "85  1.021452  5.556081   756  24.241481   367  7.669120       1\n",
       "86  1.016501  6.900257   549  20.549790   204  5.775256       1\n",
       "87  1.032754  5.443491  1085  23.188653   576  8.664169       1\n",
       "88  1.023870  5.106433   325  12.124689    50  0.781620       1\n",
       "89  1.013723  6.308943   472  16.907792   174  2.556405       1\n",
       "\n",
       "[90 rows x 7 columns]"
      ]
     },
     "execution_count": 3,
     "metadata": {},
     "output_type": "execute_result"
    }
   ],
   "source": [
    "dataset1=pd.read_csv('kidney-stone-dataset.csv')\n",
    "dataset1 = dataset1.drop('Unnamed: 0', axis=1)\n",
    "dataset1"
   ]
  },
  {
   "cell_type": "code",
   "execution_count": 4,
   "id": "b91e3b54",
   "metadata": {},
   "outputs": [
    {
     "data": {
      "text/html": [
       "<div>\n",
       "<style scoped>\n",
       "    .dataframe tbody tr th:only-of-type {\n",
       "        vertical-align: middle;\n",
       "    }\n",
       "\n",
       "    .dataframe tbody tr th {\n",
       "        vertical-align: top;\n",
       "    }\n",
       "\n",
       "    .dataframe thead th {\n",
       "        text-align: right;\n",
       "    }\n",
       "</style>\n",
       "<table border=\"1\" class=\"dataframe\">\n",
       "  <thead>\n",
       "    <tr style=\"text-align: right;\">\n",
       "      <th></th>\n",
       "      <th>gravity</th>\n",
       "      <th>ph</th>\n",
       "      <th>osmo</th>\n",
       "      <th>cond</th>\n",
       "      <th>urea</th>\n",
       "      <th>calc</th>\n",
       "      <th>target</th>\n",
       "    </tr>\n",
       "  </thead>\n",
       "  <tbody>\n",
       "    <tr>\n",
       "      <th>0</th>\n",
       "      <td>1.013</td>\n",
       "      <td>6.19</td>\n",
       "      <td>443</td>\n",
       "      <td>14.8</td>\n",
       "      <td>124</td>\n",
       "      <td>1.45</td>\n",
       "      <td>0</td>\n",
       "    </tr>\n",
       "    <tr>\n",
       "      <th>1</th>\n",
       "      <td>1.025</td>\n",
       "      <td>5.40</td>\n",
       "      <td>703</td>\n",
       "      <td>23.6</td>\n",
       "      <td>394</td>\n",
       "      <td>4.18</td>\n",
       "      <td>0</td>\n",
       "    </tr>\n",
       "    <tr>\n",
       "      <th>2</th>\n",
       "      <td>1.009</td>\n",
       "      <td>6.13</td>\n",
       "      <td>371</td>\n",
       "      <td>24.5</td>\n",
       "      <td>159</td>\n",
       "      <td>9.04</td>\n",
       "      <td>0</td>\n",
       "    </tr>\n",
       "    <tr>\n",
       "      <th>3</th>\n",
       "      <td>1.021</td>\n",
       "      <td>4.91</td>\n",
       "      <td>442</td>\n",
       "      <td>20.8</td>\n",
       "      <td>398</td>\n",
       "      <td>6.63</td>\n",
       "      <td>1</td>\n",
       "    </tr>\n",
       "    <tr>\n",
       "      <th>4</th>\n",
       "      <td>1.021</td>\n",
       "      <td>5.53</td>\n",
       "      <td>874</td>\n",
       "      <td>17.8</td>\n",
       "      <td>385</td>\n",
       "      <td>2.21</td>\n",
       "      <td>1</td>\n",
       "    </tr>\n",
       "    <tr>\n",
       "      <th>...</th>\n",
       "      <td>...</td>\n",
       "      <td>...</td>\n",
       "      <td>...</td>\n",
       "      <td>...</td>\n",
       "      <td>...</td>\n",
       "      <td>...</td>\n",
       "      <td>...</td>\n",
       "    </tr>\n",
       "    <tr>\n",
       "      <th>409</th>\n",
       "      <td>1.011</td>\n",
       "      <td>5.21</td>\n",
       "      <td>527</td>\n",
       "      <td>21.4</td>\n",
       "      <td>75</td>\n",
       "      <td>1.53</td>\n",
       "      <td>0</td>\n",
       "    </tr>\n",
       "    <tr>\n",
       "      <th>410</th>\n",
       "      <td>1.024</td>\n",
       "      <td>5.53</td>\n",
       "      <td>577</td>\n",
       "      <td>19.7</td>\n",
       "      <td>224</td>\n",
       "      <td>0.77</td>\n",
       "      <td>0</td>\n",
       "    </tr>\n",
       "    <tr>\n",
       "      <th>411</th>\n",
       "      <td>1.018</td>\n",
       "      <td>6.28</td>\n",
       "      <td>455</td>\n",
       "      <td>22.2</td>\n",
       "      <td>270</td>\n",
       "      <td>7.68</td>\n",
       "      <td>1</td>\n",
       "    </tr>\n",
       "    <tr>\n",
       "      <th>412</th>\n",
       "      <td>1.008</td>\n",
       "      <td>7.12</td>\n",
       "      <td>325</td>\n",
       "      <td>12.6</td>\n",
       "      <td>75</td>\n",
       "      <td>1.03</td>\n",
       "      <td>1</td>\n",
       "    </tr>\n",
       "    <tr>\n",
       "      <th>413</th>\n",
       "      <td>1.011</td>\n",
       "      <td>6.13</td>\n",
       "      <td>364</td>\n",
       "      <td>9.9</td>\n",
       "      <td>159</td>\n",
       "      <td>0.27</td>\n",
       "      <td>0</td>\n",
       "    </tr>\n",
       "  </tbody>\n",
       "</table>\n",
       "<p>414 rows × 7 columns</p>\n",
       "</div>"
      ],
      "text/plain": [
       "     gravity    ph  osmo  cond  urea  calc  target\n",
       "0      1.013  6.19   443  14.8   124  1.45       0\n",
       "1      1.025  5.40   703  23.6   394  4.18       0\n",
       "2      1.009  6.13   371  24.5   159  9.04       0\n",
       "3      1.021  4.91   442  20.8   398  6.63       1\n",
       "4      1.021  5.53   874  17.8   385  2.21       1\n",
       "..       ...   ...   ...   ...   ...   ...     ...\n",
       "409    1.011  5.21   527  21.4    75  1.53       0\n",
       "410    1.024  5.53   577  19.7   224  0.77       0\n",
       "411    1.018  6.28   455  22.2   270  7.68       1\n",
       "412    1.008  7.12   325  12.6    75  1.03       1\n",
       "413    1.011  6.13   364   9.9   159  0.27       0\n",
       "\n",
       "[414 rows x 7 columns]"
      ]
     },
     "execution_count": 4,
     "metadata": {},
     "output_type": "execute_result"
    }
   ],
   "source": [
    "dataset2=pd.read_csv('kidney_stone_data.csv')\n",
    "dataset2 = dataset2.drop('id', axis=1)\n",
    "dataset2"
   ]
  },
  {
   "cell_type": "code",
   "execution_count": 5,
   "id": "98d4f506",
   "metadata": {},
   "outputs": [
    {
     "data": {
      "text/html": [
       "<div>\n",
       "<style scoped>\n",
       "    .dataframe tbody tr th:only-of-type {\n",
       "        vertical-align: middle;\n",
       "    }\n",
       "\n",
       "    .dataframe tbody tr th {\n",
       "        vertical-align: top;\n",
       "    }\n",
       "\n",
       "    .dataframe thead th {\n",
       "        text-align: right;\n",
       "    }\n",
       "</style>\n",
       "<table border=\"1\" class=\"dataframe\">\n",
       "  <thead>\n",
       "    <tr style=\"text-align: right;\">\n",
       "      <th></th>\n",
       "      <th>gravity</th>\n",
       "      <th>ph</th>\n",
       "      <th>osmo</th>\n",
       "      <th>cond</th>\n",
       "      <th>urea</th>\n",
       "      <th>calc</th>\n",
       "      <th>target</th>\n",
       "    </tr>\n",
       "  </thead>\n",
       "  <tbody>\n",
       "    <tr>\n",
       "      <th>0</th>\n",
       "      <td>1.021</td>\n",
       "      <td>4.91</td>\n",
       "      <td>725</td>\n",
       "      <td>14.0</td>\n",
       "      <td>443</td>\n",
       "      <td>2.45</td>\n",
       "      <td>0</td>\n",
       "    </tr>\n",
       "    <tr>\n",
       "      <th>1</th>\n",
       "      <td>1.017</td>\n",
       "      <td>5.74</td>\n",
       "      <td>577</td>\n",
       "      <td>20.0</td>\n",
       "      <td>296</td>\n",
       "      <td>4.49</td>\n",
       "      <td>0</td>\n",
       "    </tr>\n",
       "    <tr>\n",
       "      <th>2</th>\n",
       "      <td>1.008</td>\n",
       "      <td>7.20</td>\n",
       "      <td>321</td>\n",
       "      <td>14.9</td>\n",
       "      <td>101</td>\n",
       "      <td>2.36</td>\n",
       "      <td>0</td>\n",
       "    </tr>\n",
       "    <tr>\n",
       "      <th>3</th>\n",
       "      <td>1.011</td>\n",
       "      <td>5.51</td>\n",
       "      <td>408</td>\n",
       "      <td>12.6</td>\n",
       "      <td>224</td>\n",
       "      <td>2.15</td>\n",
       "      <td>0</td>\n",
       "    </tr>\n",
       "    <tr>\n",
       "      <th>4</th>\n",
       "      <td>1.005</td>\n",
       "      <td>6.52</td>\n",
       "      <td>187</td>\n",
       "      <td>7.5</td>\n",
       "      <td>91</td>\n",
       "      <td>1.16</td>\n",
       "      <td>0</td>\n",
       "    </tr>\n",
       "    <tr>\n",
       "      <th>...</th>\n",
       "      <td>...</td>\n",
       "      <td>...</td>\n",
       "      <td>...</td>\n",
       "      <td>...</td>\n",
       "      <td>...</td>\n",
       "      <td>...</td>\n",
       "      <td>...</td>\n",
       "    </tr>\n",
       "    <tr>\n",
       "      <th>74</th>\n",
       "      <td>1.025</td>\n",
       "      <td>7.90</td>\n",
       "      <td>721</td>\n",
       "      <td>23.6</td>\n",
       "      <td>301</td>\n",
       "      <td>9.04</td>\n",
       "      <td>1</td>\n",
       "    </tr>\n",
       "    <tr>\n",
       "      <th>75</th>\n",
       "      <td>1.017</td>\n",
       "      <td>4.81</td>\n",
       "      <td>410</td>\n",
       "      <td>13.3</td>\n",
       "      <td>195</td>\n",
       "      <td>0.58</td>\n",
       "      <td>1</td>\n",
       "    </tr>\n",
       "    <tr>\n",
       "      <th>76</th>\n",
       "      <td>1.024</td>\n",
       "      <td>5.40</td>\n",
       "      <td>803</td>\n",
       "      <td>21.8</td>\n",
       "      <td>394</td>\n",
       "      <td>7.82</td>\n",
       "      <td>1</td>\n",
       "    </tr>\n",
       "    <tr>\n",
       "      <th>77</th>\n",
       "      <td>1.016</td>\n",
       "      <td>6.81</td>\n",
       "      <td>594</td>\n",
       "      <td>21.4</td>\n",
       "      <td>255</td>\n",
       "      <td>12.20</td>\n",
       "      <td>1</td>\n",
       "    </tr>\n",
       "    <tr>\n",
       "      <th>78</th>\n",
       "      <td>1.015</td>\n",
       "      <td>6.03</td>\n",
       "      <td>416</td>\n",
       "      <td>12.8</td>\n",
       "      <td>178</td>\n",
       "      <td>9.39</td>\n",
       "      <td>1</td>\n",
       "    </tr>\n",
       "  </tbody>\n",
       "</table>\n",
       "<p>79 rows × 7 columns</p>\n",
       "</div>"
      ],
      "text/plain": [
       "    gravity    ph  osmo  cond  urea   calc  target\n",
       "0     1.021  4.91   725  14.0   443   2.45       0\n",
       "1     1.017  5.74   577  20.0   296   4.49       0\n",
       "2     1.008  7.20   321  14.9   101   2.36       0\n",
       "3     1.011  5.51   408  12.6   224   2.15       0\n",
       "4     1.005  6.52   187   7.5    91   1.16       0\n",
       "..      ...   ...   ...   ...   ...    ...     ...\n",
       "74    1.025  7.90   721  23.6   301   9.04       1\n",
       "75    1.017  4.81   410  13.3   195   0.58       1\n",
       "76    1.024  5.40   803  21.8   394   7.82       1\n",
       "77    1.016  6.81   594  21.4   255  12.20       1\n",
       "78    1.015  6.03   416  12.8   178   9.39       1\n",
       "\n",
       "[79 rows x 7 columns]"
      ]
     },
     "execution_count": 5,
     "metadata": {},
     "output_type": "execute_result"
    }
   ],
   "source": [
    "dataset3=pd.read_csv('kindey stone urine analysis.csv')\n",
    "dataset3"
   ]
  },
  {
   "cell_type": "code",
   "execution_count": 6,
   "id": "b0d6f6ac",
   "metadata": {},
   "outputs": [
    {
     "data": {
      "text/html": [
       "<div>\n",
       "<style scoped>\n",
       "    .dataframe tbody tr th:only-of-type {\n",
       "        vertical-align: middle;\n",
       "    }\n",
       "\n",
       "    .dataframe tbody tr th {\n",
       "        vertical-align: top;\n",
       "    }\n",
       "\n",
       "    .dataframe thead th {\n",
       "        text-align: right;\n",
       "    }\n",
       "</style>\n",
       "<table border=\"1\" class=\"dataframe\">\n",
       "  <thead>\n",
       "    <tr style=\"text-align: right;\">\n",
       "      <th></th>\n",
       "      <th>gravity</th>\n",
       "      <th>ph</th>\n",
       "      <th>osmo</th>\n",
       "      <th>cond</th>\n",
       "      <th>urea</th>\n",
       "      <th>calc</th>\n",
       "      <th>target</th>\n",
       "    </tr>\n",
       "  </thead>\n",
       "  <tbody>\n",
       "    <tr>\n",
       "      <th>0</th>\n",
       "      <td>1.021</td>\n",
       "      <td>4.91</td>\n",
       "      <td>725</td>\n",
       "      <td>14.0</td>\n",
       "      <td>443</td>\n",
       "      <td>2.45</td>\n",
       "      <td>0</td>\n",
       "    </tr>\n",
       "    <tr>\n",
       "      <th>1</th>\n",
       "      <td>1.017</td>\n",
       "      <td>5.74</td>\n",
       "      <td>577</td>\n",
       "      <td>20.0</td>\n",
       "      <td>296</td>\n",
       "      <td>4.49</td>\n",
       "      <td>0</td>\n",
       "    </tr>\n",
       "    <tr>\n",
       "      <th>2</th>\n",
       "      <td>1.008</td>\n",
       "      <td>7.20</td>\n",
       "      <td>321</td>\n",
       "      <td>14.9</td>\n",
       "      <td>101</td>\n",
       "      <td>2.36</td>\n",
       "      <td>0</td>\n",
       "    </tr>\n",
       "    <tr>\n",
       "      <th>3</th>\n",
       "      <td>1.011</td>\n",
       "      <td>5.51</td>\n",
       "      <td>408</td>\n",
       "      <td>12.6</td>\n",
       "      <td>224</td>\n",
       "      <td>2.15</td>\n",
       "      <td>0</td>\n",
       "    </tr>\n",
       "    <tr>\n",
       "      <th>4</th>\n",
       "      <td>1.005</td>\n",
       "      <td>6.52</td>\n",
       "      <td>187</td>\n",
       "      <td>7.5</td>\n",
       "      <td>91</td>\n",
       "      <td>1.16</td>\n",
       "      <td>0</td>\n",
       "    </tr>\n",
       "    <tr>\n",
       "      <th>...</th>\n",
       "      <td>...</td>\n",
       "      <td>...</td>\n",
       "      <td>...</td>\n",
       "      <td>...</td>\n",
       "      <td>...</td>\n",
       "      <td>...</td>\n",
       "      <td>...</td>\n",
       "    </tr>\n",
       "    <tr>\n",
       "      <th>578</th>\n",
       "      <td>1.025</td>\n",
       "      <td>7.90</td>\n",
       "      <td>721</td>\n",
       "      <td>23.6</td>\n",
       "      <td>301</td>\n",
       "      <td>9.04</td>\n",
       "      <td>1</td>\n",
       "    </tr>\n",
       "    <tr>\n",
       "      <th>579</th>\n",
       "      <td>1.017</td>\n",
       "      <td>4.81</td>\n",
       "      <td>410</td>\n",
       "      <td>13.3</td>\n",
       "      <td>195</td>\n",
       "      <td>0.58</td>\n",
       "      <td>1</td>\n",
       "    </tr>\n",
       "    <tr>\n",
       "      <th>580</th>\n",
       "      <td>1.024</td>\n",
       "      <td>5.40</td>\n",
       "      <td>803</td>\n",
       "      <td>21.8</td>\n",
       "      <td>394</td>\n",
       "      <td>7.82</td>\n",
       "      <td>1</td>\n",
       "    </tr>\n",
       "    <tr>\n",
       "      <th>581</th>\n",
       "      <td>1.016</td>\n",
       "      <td>6.81</td>\n",
       "      <td>594</td>\n",
       "      <td>21.4</td>\n",
       "      <td>255</td>\n",
       "      <td>12.20</td>\n",
       "      <td>1</td>\n",
       "    </tr>\n",
       "    <tr>\n",
       "      <th>582</th>\n",
       "      <td>1.015</td>\n",
       "      <td>6.03</td>\n",
       "      <td>416</td>\n",
       "      <td>12.8</td>\n",
       "      <td>178</td>\n",
       "      <td>9.39</td>\n",
       "      <td>1</td>\n",
       "    </tr>\n",
       "  </tbody>\n",
       "</table>\n",
       "<p>583 rows × 7 columns</p>\n",
       "</div>"
      ],
      "text/plain": [
       "     gravity    ph  osmo  cond  urea   calc  target\n",
       "0      1.021  4.91   725  14.0   443   2.45       0\n",
       "1      1.017  5.74   577  20.0   296   4.49       0\n",
       "2      1.008  7.20   321  14.9   101   2.36       0\n",
       "3      1.011  5.51   408  12.6   224   2.15       0\n",
       "4      1.005  6.52   187   7.5    91   1.16       0\n",
       "..       ...   ...   ...   ...   ...    ...     ...\n",
       "578    1.025  7.90   721  23.6   301   9.04       1\n",
       "579    1.017  4.81   410  13.3   195   0.58       1\n",
       "580    1.024  5.40   803  21.8   394   7.82       1\n",
       "581    1.016  6.81   594  21.4   255  12.20       1\n",
       "582    1.015  6.03   416  12.8   178   9.39       1\n",
       "\n",
       "[583 rows x 7 columns]"
      ]
     },
     "execution_count": 6,
     "metadata": {},
     "output_type": "execute_result"
    }
   ],
   "source": [
    "combined_df=pd.concat([dataset1, dataset2,dataset3], ignore_index=True)\n",
    "df=combined_df.copy()\n",
    "df"
   ]
  },
  {
   "cell_type": "code",
   "execution_count": 7,
   "id": "6e2a5c88",
   "metadata": {},
   "outputs": [
    {
     "data": {
      "text/plain": [
       "(583, 7)"
      ]
     },
     "execution_count": 7,
     "metadata": {},
     "output_type": "execute_result"
    }
   ],
   "source": [
    "df.shape"
   ]
  },
  {
   "cell_type": "code",
   "execution_count": 8,
   "id": "6a5901b0",
   "metadata": {},
   "outputs": [
    {
     "data": {
      "text/plain": [
       "gravity    0\n",
       "ph         0\n",
       "osmo       0\n",
       "cond       0\n",
       "urea       0\n",
       "calc       0\n",
       "target     0\n",
       "dtype: int64"
      ]
     },
     "execution_count": 8,
     "metadata": {},
     "output_type": "execute_result"
    }
   ],
   "source": [
    "df.isnull().sum()"
   ]
  },
  {
   "cell_type": "code",
   "execution_count": 9,
   "id": "466d1423",
   "metadata": {},
   "outputs": [
    {
     "name": "stdout",
     "output_type": "stream",
     "text": [
      "<class 'pandas.core.frame.DataFrame'>\n",
      "RangeIndex: 583 entries, 0 to 582\n",
      "Data columns (total 7 columns):\n",
      " #   Column   Non-Null Count  Dtype  \n",
      "---  ------   --------------  -----  \n",
      " 0   gravity  583 non-null    float64\n",
      " 1   ph       583 non-null    float64\n",
      " 2   osmo     583 non-null    int64  \n",
      " 3   cond     583 non-null    float64\n",
      " 4   urea     583 non-null    int64  \n",
      " 5   calc     583 non-null    float64\n",
      " 6   target   583 non-null    int64  \n",
      "dtypes: float64(4), int64(3)\n",
      "memory usage: 32.0 KB\n"
     ]
    }
   ],
   "source": [
    "df.info()"
   ]
  },
  {
   "cell_type": "code",
   "execution_count": 10,
   "id": "5078b682",
   "metadata": {},
   "outputs": [
    {
     "data": {
      "text/plain": [
       "77"
      ]
     },
     "execution_count": 10,
     "metadata": {},
     "output_type": "execute_result"
    }
   ],
   "source": [
    "df.duplicated().sum()"
   ]
  },
  {
   "cell_type": "code",
   "execution_count": 11,
   "id": "e4fb7a34",
   "metadata": {},
   "outputs": [],
   "source": [
    "df = df.drop_duplicates()"
   ]
  },
  {
   "cell_type": "code",
   "execution_count": 12,
   "id": "9de31447",
   "metadata": {},
   "outputs": [
    {
     "data": {
      "text/plain": [
       "0"
      ]
     },
     "execution_count": 12,
     "metadata": {},
     "output_type": "execute_result"
    }
   ],
   "source": [
    "df.duplicated().sum()"
   ]
  },
  {
   "cell_type": "code",
   "execution_count": 13,
   "id": "62c7e9f1",
   "metadata": {},
   "outputs": [
    {
     "data": {
      "text/plain": [
       "<Axes: xlabel='target', ylabel='count'>"
      ]
     },
     "execution_count": 13,
     "metadata": {},
     "output_type": "execute_result"
    },
    {
     "data": {
      "image/png": "[encoded data removed]",
      "text/plain": [
       "<Figure size 640x480 with 1 Axes>"
      ]
     },
     "metadata": {},
     "output_type": "display_data"
    }
   ],
   "source": [
    "import seaborn as sns\n",
    "sns.countplot(x='target',data=df)"
   ]
  },
  {
   "cell_type": "code",
   "execution_count": 14,
   "id": "77c2a8cb",
   "metadata": {},
   "outputs": [
    {
     "data": {
      "text/plain": [
       "<Axes: xlabel='gravity'>"
      ]
     },
     "execution_count": 14,
     "metadata": {},
     "output_type": "execute_result"
    },
    {
     "data": {
      "image/png": "[encoded data removed]",
      "text/plain": [
       "<Figure size 640x480 with 1 Axes>"
      ]
     },
     "metadata": {},
     "output_type": "display_data"
    }
   ],
   "source": [
    "import seaborn as sns\n",
    "sns.boxplot(data=combined_df, x='gravity')"
   ]
  },
  {
   "cell_type": "code",
   "execution_count": 15,
   "id": "d1902988",
   "metadata": {},
   "outputs": [
    {
     "data": {
      "text/plain": [
       "<Axes: xlabel='ph'>"
      ]
     },
     "execution_count": 15,
     "metadata": {},
     "output_type": "execute_result"
    },
    {
     "data": {
      "image/png": "[encoded data removed]",
      "text/plain": [
       "<Figure size 640x480 with 1 Axes>"
      ]
     },
     "metadata": {},
     "output_type": "display_data"
    }
   ],
   "source": [
    "sns.boxplot(data=combined_df, x='ph')"
   ]
  },
  {
   "cell_type": "code",
   "execution_count": 16,
   "id": "129bd74d",
   "metadata": {},
   "outputs": [
    {
     "data": {
      "text/plain": [
       "<Axes: xlabel='osmo'>"
      ]
     },
     "execution_count": 16,
     "metadata": {},
     "output_type": "execute_result"
    },
    {
     "data": {
      "image/png": "[encoded data removed]",
      "text/plain": [
       "<Figure size 640x480 with 1 Axes>"
      ]
     },
     "metadata": {},
     "output_type": "display_data"
    }
   ],
   "source": [
    "sns.boxplot(data=combined_df, x='osmo')"
   ]
  },
  {
   "cell_type": "code",
   "execution_count": 17,
   "id": "4d629430",
   "metadata": {},
   "outputs": [
    {
     "data": {
      "text/plain": [
       "<Axes: xlabel='cond'>"
      ]
     },
     "execution_count": 17,
     "metadata": {},
     "output_type": "execute_result"
    },
    {
     "data": {
      "image/png": "[encoded data removed]",
      "text/plain": [
       "<Figure size 640x480 with 1 Axes>"
      ]
     },
     "metadata": {},
     "output_type": "display_data"
    }
   ],
   "source": [
    "sns.boxplot(data=combined_df, x='cond')"
   ]
  },
  {
   "cell_type": "code",
   "execution_count": 18,
   "id": "2be87d19",
   "metadata": {},
   "outputs": [
    {
     "data": {
      "text/plain": [
       "<Axes: xlabel='urea'>"
      ]
     },
     "execution_count": 18,
     "metadata": {},
     "output_type": "execute_result"
    },
    {
     "data": {
      "image/png": "[encoded data removed]",
      "text/plain": [
       "<Figure size 640x480 with 1 Axes>"
      ]
     },
     "metadata": {},
     "output_type": "display_data"
    }
   ],
   "source": [
    "sns.boxplot(data=combined_df, x='urea')"
   ]
  },
  {
   "cell_type": "code",
   "execution_count": 19,
   "id": "edcd4e05",
   "metadata": {},
   "outputs": [
    {
     "data": {
      "text/plain": [
       "<Axes: xlabel='calc'>"
      ]
     },
     "execution_count": 19,
     "metadata": {},
     "output_type": "execute_result"
    },
    {
     "data": {
      "image/png": "[encoded data removed]",
      "text/plain": [
       "<Figure size 640x480 with 1 Axes>"
      ]
     },
     "metadata": {},
     "output_type": "display_data"
    }
   ],
   "source": [
    "sns.boxplot(data=combined_df, x='calc')"
   ]
  },
  {
   "cell_type": "markdown",
   "id": "1ada0b47",
   "metadata": {},
   "source": [
    "# Handling outliers"
   ]
  },
  {
   "cell_type": "code",
   "execution_count": null,
   "id": "5203ff33",
   "metadata": {},
   "outputs": [],
   "source": []
  },
  {
   "cell_type": "code",
   "execution_count": 20,
   "id": "80436027",
   "metadata": {},
   "outputs": [],
   "source": [
    "columns = ['gravity', 'ph', 'calc']"
   ]
  },
  {
   "cell_type": "code",
   "execution_count": 21,
   "id": "b3533297",
   "metadata": {},
   "outputs": [
    {
     "name": "stderr",
     "output_type": "stream",
     "text": [
      "C:\\Users\\Binisha\\AppData\\Local\\Temp\\ipykernel_8656\\3935736073.py:11: SettingWithCopyWarning: \n",
      "A value is trying to be set on a copy of a slice from a DataFrame.\n",
      "Try using .loc[row_indexer,col_indexer] = value instead\n",
      "\n",
      "See the caveats in the documentation: https://pandas.pydata.org/pandas-docs/stable/user_guide/indexing.html#returning-a-view-versus-a-copy\n",
      "  df[col] = np.where(df[col] < lower_whisker, lower_whisker,\n",
      "C:\\Users\\Binisha\\AppData\\Local\\Temp\\ipykernel_8656\\3935736073.py:11: SettingWithCopyWarning: \n",
      "A value is trying to be set on a copy of a slice from a DataFrame.\n",
      "Try using .loc[row_indexer,col_indexer] = value instead\n",
      "\n",
      "See the caveats in the documentation: https://pandas.pydata.org/pandas-docs/stable/user_guide/indexing.html#returning-a-view-versus-a-copy\n",
      "  df[col] = np.where(df[col] < lower_whisker, lower_whisker,\n",
      "C:\\Users\\Binisha\\AppData\\Local\\Temp\\ipykernel_8656\\3935736073.py:11: SettingWithCopyWarning: \n",
      "A value is trying to be set on a copy of a slice from a DataFrame.\n",
      "Try using .loc[row_indexer,col_indexer] = value instead\n",
      "\n",
      "See the caveats in the documentation: https://pandas.pydata.org/pandas-docs/stable/user_guide/indexing.html#returning-a-view-versus-a-copy\n",
      "  df[col] = np.where(df[col] < lower_whisker, lower_whisker,\n"
     ]
    }
   ],
   "source": [
    "for col in columns:\n",
    "    Q1 = df[col].quantile(0.25)\n",
    "    Q3 = df[col].quantile(0.75)\n",
    "    IQR = Q3 - Q1\n",
    "\n",
    "    # Define lower and upper whisker values\n",
    "    lower_whisker = Q1 - 1.5 * IQR\n",
    "    upper_whisker = Q3 + 1.5 * IQR\n",
    "\n",
    "    # Cap the outliers at the whisker values\n",
    "    df[col] = np.where(df[col] < lower_whisker, lower_whisker, \n",
    "                       np.where(df[col] > upper_whisker, upper_whisker, df[col]))\n"
   ]
  },
  {
   "cell_type": "code",
   "execution_count": 22,
   "id": "2777404e",
   "metadata": {},
   "outputs": [
    {
     "data": {
      "image/png": "[encoded data removed]",
      "text/plain": [
       "<Figure size 1500x800 with 3 Axes>"
      ]
     },
     "metadata": {},
     "output_type": "display_data"
    }
   ],
   "source": [
    "plt.figure(figsize=(15, 8))\n",
    "for i, col in enumerate(columns, 1):\n",
    "    plt.subplot(2, 3, i)  # Adjust the layout as needed\n",
    "    sns.boxplot(data=df, x=col)\n",
    "    plt.title(f'Boxplot of {col}')\n",
    "\n",
    "plt.tight_layout()\n",
    "plt.show()"
   ]
  },
  {
   "cell_type": "code",
   "execution_count": null,
   "id": "d4bf94bb",
   "metadata": {},
   "outputs": [],
   "source": []
  },
  {
   "cell_type": "markdown",
   "id": "6d3ccf56",
   "metadata": {},
   "source": [
    "# model"
   ]
  },
  {
   "cell_type": "code",
   "execution_count": 43,
   "id": "11dae84b",
   "metadata": {},
   "outputs": [],
   "source": [
    "from sklearn.model_selection import train_test_split\n",
    "X=df.drop(['target'],axis=1)\n",
    "Y=df['target']"
   ]
  },
  {
   "cell_type": "code",
   "execution_count": 44,
   "id": "67a3d044",
   "metadata": {},
   "outputs": [
    {
     "data": {
      "text/html": [
       "<div>\n",
       "<style scoped>\n",
       "    .dataframe tbody tr th:only-of-type {\n",
       "        vertical-align: middle;\n",
       "    }\n",
       "\n",
       "    .dataframe tbody tr th {\n",
       "        vertical-align: top;\n",
       "    }\n",
       "\n",
       "    .dataframe thead th {\n",
       "        text-align: right;\n",
       "    }\n",
       "</style>\n",
       "<table border=\"1\" class=\"dataframe\">\n",
       "  <thead>\n",
       "    <tr style=\"text-align: right;\">\n",
       "      <th></th>\n",
       "      <th>gravity</th>\n",
       "      <th>ph</th>\n",
       "      <th>osmo</th>\n",
       "      <th>cond</th>\n",
       "      <th>urea</th>\n",
       "      <th>calc</th>\n",
       "    </tr>\n",
       "  </thead>\n",
       "  <tbody>\n",
       "    <tr>\n",
       "      <th>0</th>\n",
       "      <td>1.021</td>\n",
       "      <td>4.91</td>\n",
       "      <td>725</td>\n",
       "      <td>14.0</td>\n",
       "      <td>443</td>\n",
       "      <td>2.45</td>\n",
       "    </tr>\n",
       "    <tr>\n",
       "      <th>1</th>\n",
       "      <td>1.017</td>\n",
       "      <td>5.74</td>\n",
       "      <td>577</td>\n",
       "      <td>20.0</td>\n",
       "      <td>296</td>\n",
       "      <td>4.49</td>\n",
       "    </tr>\n",
       "    <tr>\n",
       "      <th>2</th>\n",
       "      <td>1.008</td>\n",
       "      <td>7.20</td>\n",
       "      <td>321</td>\n",
       "      <td>14.9</td>\n",
       "      <td>101</td>\n",
       "      <td>2.36</td>\n",
       "    </tr>\n",
       "    <tr>\n",
       "      <th>3</th>\n",
       "      <td>1.011</td>\n",
       "      <td>5.51</td>\n",
       "      <td>408</td>\n",
       "      <td>12.6</td>\n",
       "      <td>224</td>\n",
       "      <td>2.15</td>\n",
       "    </tr>\n",
       "    <tr>\n",
       "      <th>4</th>\n",
       "      <td>1.005</td>\n",
       "      <td>6.52</td>\n",
       "      <td>187</td>\n",
       "      <td>7.5</td>\n",
       "      <td>91</td>\n",
       "      <td>1.16</td>\n",
       "    </tr>\n",
       "    <tr>\n",
       "      <th>...</th>\n",
       "      <td>...</td>\n",
       "      <td>...</td>\n",
       "      <td>...</td>\n",
       "      <td>...</td>\n",
       "      <td>...</td>\n",
       "      <td>...</td>\n",
       "    </tr>\n",
       "    <tr>\n",
       "      <th>501</th>\n",
       "      <td>1.018</td>\n",
       "      <td>6.28</td>\n",
       "      <td>455</td>\n",
       "      <td>22.2</td>\n",
       "      <td>270</td>\n",
       "      <td>7.68</td>\n",
       "    </tr>\n",
       "    <tr>\n",
       "      <th>502</th>\n",
       "      <td>1.008</td>\n",
       "      <td>7.12</td>\n",
       "      <td>325</td>\n",
       "      <td>12.6</td>\n",
       "      <td>75</td>\n",
       "      <td>1.03</td>\n",
       "    </tr>\n",
       "    <tr>\n",
       "      <th>503</th>\n",
       "      <td>1.011</td>\n",
       "      <td>6.13</td>\n",
       "      <td>364</td>\n",
       "      <td>9.9</td>\n",
       "      <td>159</td>\n",
       "      <td>0.27</td>\n",
       "    </tr>\n",
       "    <tr>\n",
       "      <th>554</th>\n",
       "      <td>1.026</td>\n",
       "      <td>5.16</td>\n",
       "      <td>822</td>\n",
       "      <td>26.0</td>\n",
       "      <td>301</td>\n",
       "      <td>14.34</td>\n",
       "    </tr>\n",
       "    <tr>\n",
       "      <th>562</th>\n",
       "      <td>1.037</td>\n",
       "      <td>6.28</td>\n",
       "      <td>838</td>\n",
       "      <td>14.3</td>\n",
       "      <td>486</td>\n",
       "      <td>8.28</td>\n",
       "    </tr>\n",
       "  </tbody>\n",
       "</table>\n",
       "<p>506 rows × 6 columns</p>\n",
       "</div>"
      ],
      "text/plain": [
       "     gravity    ph  osmo  cond  urea   calc\n",
       "0      1.021  4.91   725  14.0   443   2.45\n",
       "1      1.017  5.74   577  20.0   296   4.49\n",
       "2      1.008  7.20   321  14.9   101   2.36\n",
       "3      1.011  5.51   408  12.6   224   2.15\n",
       "4      1.005  6.52   187   7.5    91   1.16\n",
       "..       ...   ...   ...   ...   ...    ...\n",
       "501    1.018  6.28   455  22.2   270   7.68\n",
       "502    1.008  7.12   325  12.6    75   1.03\n",
       "503    1.011  6.13   364   9.9   159   0.27\n",
       "554    1.026  5.16   822  26.0   301  14.34\n",
       "562    1.037  6.28   838  14.3   486   8.28\n",
       "\n",
       "[506 rows x 6 columns]"
      ]
     },
     "execution_count": 44,
     "metadata": {},
     "output_type": "execute_result"
    }
   ],
   "source": [
    "X"
   ]
  },
  {
   "cell_type": "code",
   "execution_count": 45,
   "id": "dd26567b",
   "metadata": {},
   "outputs": [],
   "source": [
    "X_train, X_test, y_train, y_test = train_test_split(X, Y, test_size=0.2, random_state=42)"
   ]
  },
  {
   "cell_type": "code",
   "execution_count": null,
   "id": "815fb920-1982-45eb-bc67-3de6d3a84593",
   "metadata": {},
   "outputs": [],
   "source": []
  },
  {
   "cell_type": "code",
   "execution_count": 1,
   "id": "3d8e3648-527f-4463-ac33-c66212290ac5",
   "metadata": {},
   "outputs": [],
   "source": [
    "# Random Forest Scratch"
   ]
  },
  {
   "cell_type": "code",
   "execution_count": 37,
   "id": "32396ed6-fd25-4746-8399-8bf95ab1563e",
   "metadata": {},
   "outputs": [
    {
     "ename": "SyntaxError",
     "evalue": "invalid syntax (2172237635.py, line 15)",
     "output_type": "error",
     "traceback": [
      "\u001b[1;36m  Cell \u001b[1;32mIn[37], line 15\u001b[1;36m\u001b[0m\n\u001b[1;33m    return IG_p - (len(left_child) / len(parent)) * IG_l - (len(right_child) / len(parent)) *\u001b[0m\n\u001b[1;37m                                                                                             ^\u001b[0m\n\u001b[1;31mSyntaxError\u001b[0m\u001b[1;31m:\u001b[0m invalid syntax\n"
     ]
    }
   ],
   "source": [
    "def entropy(p):\n",
    "    if p == 0:\n",
    "        return 0\n",
    "    elif p == 1:\n",
    "        return 0\n",
    "    else:\n",
    "        return - (p * np.log2(p) + (1 - p) * np.log2(1-p))\n",
    "\n",
    "def information_gain(left_child, right_child):\n",
    "    parent = left_child + right_child\n",
    "    p_parent = parent.count(1) / len(parent) if len(parent) > 0 else 0\n",
    "    p_left = np.sum(left_child == 1) / len(left_child) if len(left_child) > 0 else 0\n",
    "p_right = np.sum(right_child == 1) / len(right_child) if len(right_child) > 0 else 0\n",
    "\n",
    "    IG_p = entropy(p_parent)\n",
    "    IG_l = entropy(p_left)\n",
    "    IG_r = entropy(p_right)\n",
    "    return IG_p - len(left_child) / len(parent) * IG_l - len(right_child) / len(parent) * IG_r"
   ]
  },
  {
   "cell_type": "code",
   "execution_count": 27,
   "id": "d1359598-cc8e-4598-a75c-2b03c6bb8283",
   "metadata": {},
   "outputs": [],
   "source": [
    "def draw_bootstrap(X_train, y_train):\n",
    "    bootstrap_indices = list(np.random.choice(range(len(X_train)), len(X_train), replace = True))\n",
    "    oob_indices = [i for i in range(len(X_train)) if i not in bootstrap_indices]\n",
    "    X_bootstrap = X_train.iloc[bootstrap_indices].values\n",
    "    y_bootstrap = y_train[bootstrap_indices]\n",
    "    X_oob = X_train.iloc[oob_indices].values\n",
    "    y_oob = y_train[oob_indices]\n",
    "    return X_bootstrap, y_bootstrap, X_oob, y_oob\n",
    "\n",
    "def oob_score(tree, X_test, y_test):\n",
    "    mis_label = 0\n",
    "    for i in range(len(X_test)):\n",
    "        pred = predict_tree(tree, X_test[i])\n",
    "        if pred != y_test[i]:\n",
    "            mis_label += 1\n",
    "    return mis_label / len(X_test)"
   ]
  },
  {
   "cell_type": "code",
   "execution_count": 30,
   "id": "d5254987-65e2-4245-88b4-ce519c0bddf6",
   "metadata": {},
   "outputs": [],
   "source": [
    "\n",
    "def find_split_point(X_bootstrap, y_bootstrap, max_features):\n",
    "    # Ensure inputs are valid\n",
    "    if len(X_bootstrap) == 0 or len(y_bootstrap) == 0:\n",
    "        raise ValueError(\"X_bootstrap and y_bootstrap cannot be empty.\")\n",
    "    if max_features <= 0 or max_features > len(X_bootstrap[0]):\n",
    "        raise ValueError(\"max_features must be between 1 and the number of features.\")\n",
    "    \n",
    "    feature_ls = []\n",
    "    num_features = len(X_bootstrap[0])\n",
    "\n",
    "    # Randomly sample feature indices\n",
    "    while len(feature_ls) < max_features:\n",
    "        feature_idx = random.randint(0, num_features - 1)\n",
    "        if feature_idx not in feature_ls:\n",
    "            feature_ls.append(feature_idx)\n",
    "\n",
    "    best_info_gain = float(\"-inf\")\n",
    "    node = None\n",
    "\n",
    "    for feature_idx in feature_ls:\n",
    "        for split_point in np.unique(X_bootstrap[:, feature_idx]):\n",
    "            left_child = {'X_bootstrap': [], 'y_bootstrap': []}\n",
    "            right_child = {'X_bootstrap': [], 'y_bootstrap': []}\n",
    "\n",
    "            # Split data based on the split_point\n",
    "            for i, value in enumerate(X_bootstrap[:, feature_idx]):\n",
    "                if isinstance(split_point, (int, float)) and value <= split_point:\n",
    "                    left_child['X_bootstrap'].append(X_bootstrap[i])\n",
    "                    left_child['y_bootstrap'].append(y_bootstrap[i])\n",
    "                elif value == split_point:\n",
    "                    left_child['X_bootstrap'].append(X_bootstrap[i])\n",
    "                    left_child['y_bootstrap'].append(y_bootstrap[i])\n",
    "                else:\n",
    "                    right_child['X_bootstrap'].append(X_bootstrap[i])\n",
    "                    right_child['y_bootstrap'].append(y_bootstrap[i])\n",
    "\n",
    "            # Calculate information gain\n",
    "            split_info_gain = information_gain(\n",
    "                left_child['y_bootstrap'], right_child['y_bootstrap']\n",
    "            )\n",
    "\n",
    "            # Update the best split if the information gain is higher\n",
    "            if split_info_gain > best_info_gain:\n",
    "                best_info_gain = split_info_gain\n",
    "                node = {\n",
    "                    'information_gain': split_info_gain,\n",
    "                    'left_child': {\n",
    "                        'X_bootstrap': np.array(left_child['X_bootstrap']),\n",
    "                        'y_bootstrap': np.array(left_child['y_bootstrap']),\n",
    "                    },\n",
    "                    'right_child': {\n",
    "                        'X_bootstrap': np.array(right_child['X_bootstrap']),\n",
    "                        'y_bootstrap': np.array(right_child['y_bootstrap']),\n",
    "                    },\n",
    "                    'split_point': split_point,\n",
    "                    'feature_idx': feature_idx\n",
    "                }\n",
    "\n",
    "    return node\n"
   ]
  },
  {
   "cell_type": "code",
   "execution_count": 31,
   "id": "63a05725-87dc-4d2b-aa6c-1901c049224f",
   "metadata": {},
   "outputs": [],
   "source": [
    "def terminal_node(node):\n",
    "    y_bootstrap = node['y_bootstrap']\n",
    "    pred = max(y_bootstrap, key = y_bootstrap.count)\n",
    "    return pred\n",
    "\n",
    "\n",
    "def split_node(node, max_features, min_samples_split, max_depth, depth):\n",
    "    left_child = node['left_child']\n",
    "    right_child = node['right_child']\n",
    "\n",
    "    del(node['left_child'])\n",
    "    del(node['right_child'])\n",
    "\n",
    "    if len(left_child['y_bootstrap']) == 0 or len(right_child['y_bootstrap']) == 0:\n",
    "        empty_child = {'y_bootstrap': left_child['y_bootstrap'] + right_child['y_bootstrap']}\n",
    "        node['left_split'] = terminal_node(empty_child)\n",
    "        node['right_split'] = terminal_node(empty_child)\n",
    "        return\n",
    "\n",
    "    if depth >= max_depth:\n",
    "        node['left_split'] = terminal_node(left_child)\n",
    "        node['right_split'] = terminal_node(right_child)\n",
    "        return node\n",
    "\n",
    "    if len(left_child['X_bootstrap']) <= min_samples_split:\n",
    "        node['left_split'] = node['right_split'] = terminal_node(left_child)\n",
    "    else:\n",
    "        node['left_split'] = find_split_point(left_child['X_bootstrap'], left_child['y_bootstrap'], max_features)\n",
    "        split_node(node['left_split'], max_depth, min_samples_split, max_depth, depth + 1)\n",
    "    if len(right_child['X_bootstrap']) <= min_samples_split:\n",
    "        node['right_split'] = node['left_split'] = terminal_node(right_child)\n",
    "    else:\n",
    "        node['right_split'] = find_split_point(right_child['X_bootstrap'], right_child['y_bootstrap'], max_features)\n",
    "        split_node(node['right_split'], max_features, min_samples_split, max_depth, depth + 1)"
   ]
  },
  {
   "cell_type": "code",
   "execution_count": 32,
   "id": "437c3047-5cd6-4c6e-96ae-0785f132ed37",
   "metadata": {},
   "outputs": [],
   "source": [
    "def build_tree(X_bootstrap, y_bootstrap, max_depth, min_samples_split, max_features):\n",
    "    root_node = find_split_point(X_bootstrap, y_bootstrap, max_features)\n",
    "    split_node(root_node, max_features, min_samples_split, max_depth, 1)\n",
    "    return root_node\n",
    "\n",
    "def random_forest(X_train, y_train, n_estimators, max_features, max_depth, min_samples_split):\n",
    "    tree_ls = list()\n",
    "    oob_ls = list()\n",
    "    for i in range(n_estimators):\n",
    "        X_bootstrap, y_bootstrap, X_oob, y_oob = draw_bootstrap(X_train, y_train)\n",
    "        tree = build_tree(X_bootstrap, y_bootstrap, max_features, max_depth, min_samples_split)\n",
    "        tree_ls.append(tree)\n",
    "        oob_error = oob_score(tree, X_oob, y_oob)\n",
    "        oob_ls.append(oob_error)\n",
    "    print(\"OOB estimate: {:.2f}\".format(np.mean(oob_ls)))\n",
    "    return tree_ls"
   ]
  },
  {
   "cell_type": "code",
   "execution_count": 33,
   "id": "decc5918-e52f-4959-bc14-cf0f67a9ce5a",
   "metadata": {},
   "outputs": [],
   "source": [
    "def predict_tree(tree, X_test):\n",
    "    feature_idx = tree['feature_idx']\n",
    "\n",
    "    if X_test[feature_idx] <= tree['split_point']:\n",
    "        if type(tree['left_split']) == dict:\n",
    "            return predict_tree(tree['left_split'], X_test)\n",
    "        else:\n",
    "            value = tree['left_split']\n",
    "            return value\n",
    "    else:\n",
    "        if type(tree['right_split']) == dict:\n",
    "            return predict_tree(tree['right_split'], X_test)\n",
    "        else:\n",
    "            return tree['right_split']"
   ]
  },
  {
   "cell_type": "code",
   "execution_count": 34,
   "id": "e29c6520-da16-4ec4-b418-aaee2e7d1c98",
   "metadata": {},
   "outputs": [],
   "source": [
    "def predict_rf(tree_ls, X_test):\n",
    "    pred_ls = list()\n",
    "    for i in range(len(X_test)):\n",
    "        ensemble_preds = [predict_tree(tree, X_test.values[i]) for tree in tree_ls]\n",
    "        final_pred = max(ensemble_preds, key = ensemble_preds.count)\n",
    "        pred_ls.append(final_pred)\n",
    "    return np.array(pred_ls)"
   ]
  },
  {
   "cell_type": "code",
   "execution_count": 35,
   "id": "35f68016-85d5-46b9-9fe3-15b65c127a3b",
   "metadata": {},
   "outputs": [
    {
     "ename": "KeyError",
     "evalue": "'[278, 245, 9, 173, 124, 22, 388, 68, 324, 312, 33, 346, 86, 63, 131, 255, 203, 55, 271, 140, 77, 355, 76, 75, 268, 381, 101, 218, 208, 204, 281, 316, 93, 229, 392, 210, 320, 195, 39, 362, 84, 307, 0, 2, 104, 375, 11] not in index'",
     "output_type": "error",
     "traceback": [
      "\u001b[1;31m---------------------------------------------------------------------------\u001b[0m",
      "\u001b[1;31mKeyError\u001b[0m                                  Traceback (most recent call last)",
      "Cell \u001b[1;32mIn[35], line 6\u001b[0m\n\u001b[0;32m      3\u001b[0m max_depth \u001b[38;5;241m=\u001b[39m \u001b[38;5;241m10\u001b[39m\n\u001b[0;32m      4\u001b[0m min_samples_split \u001b[38;5;241m=\u001b[39m \u001b[38;5;241m2\u001b[39m\n\u001b[1;32m----> 6\u001b[0m model \u001b[38;5;241m=\u001b[39m random_forest(X_train, y_train, n_estimators\u001b[38;5;241m=\u001b[39m\u001b[38;5;241m100\u001b[39m, max_features\u001b[38;5;241m=\u001b[39m\u001b[38;5;241m3\u001b[39m, max_depth\u001b[38;5;241m=\u001b[39m\u001b[38;5;241m10\u001b[39m, min_samples_split\u001b[38;5;241m=\u001b[39m\u001b[38;5;241m2\u001b[39m)\n",
      "Cell \u001b[1;32mIn[32], line 10\u001b[0m, in \u001b[0;36mrandom_forest\u001b[1;34m(X_train, y_train, n_estimators, max_features, max_depth, min_samples_split)\u001b[0m\n\u001b[0;32m      8\u001b[0m oob_ls \u001b[38;5;241m=\u001b[39m \u001b[38;5;28mlist\u001b[39m()\n\u001b[0;32m      9\u001b[0m \u001b[38;5;28;01mfor\u001b[39;00m i \u001b[38;5;129;01min\u001b[39;00m \u001b[38;5;28mrange\u001b[39m(n_estimators):\n\u001b[1;32m---> 10\u001b[0m     X_bootstrap, y_bootstrap, X_oob, y_oob \u001b[38;5;241m=\u001b[39m draw_bootstrap(X_train, y_train)\n\u001b[0;32m     11\u001b[0m     tree \u001b[38;5;241m=\u001b[39m build_tree(X_bootstrap, y_bootstrap, max_features, max_depth, min_samples_split)\n\u001b[0;32m     12\u001b[0m     tree_ls\u001b[38;5;241m.\u001b[39mappend(tree)\n",
      "Cell \u001b[1;32mIn[27], line 5\u001b[0m, in \u001b[0;36mdraw_bootstrap\u001b[1;34m(X_train, y_train)\u001b[0m\n\u001b[0;32m      3\u001b[0m oob_indices \u001b[38;5;241m=\u001b[39m [i \u001b[38;5;28;01mfor\u001b[39;00m i \u001b[38;5;129;01min\u001b[39;00m \u001b[38;5;28mrange\u001b[39m(\u001b[38;5;28mlen\u001b[39m(X_train)) \u001b[38;5;28;01mif\u001b[39;00m i \u001b[38;5;129;01mnot\u001b[39;00m \u001b[38;5;129;01min\u001b[39;00m bootstrap_indices]\n\u001b[0;32m      4\u001b[0m X_bootstrap \u001b[38;5;241m=\u001b[39m X_train\u001b[38;5;241m.\u001b[39miloc[bootstrap_indices]\u001b[38;5;241m.\u001b[39mvalues\n\u001b[1;32m----> 5\u001b[0m y_bootstrap \u001b[38;5;241m=\u001b[39m y_train[bootstrap_indices]\n\u001b[0;32m      6\u001b[0m X_oob \u001b[38;5;241m=\u001b[39m X_train\u001b[38;5;241m.\u001b[39miloc[oob_indices]\u001b[38;5;241m.\u001b[39mvalues\n\u001b[0;32m      7\u001b[0m y_oob \u001b[38;5;241m=\u001b[39m y_train[oob_indices]\n",
      "File \u001b[1;32m~\\AppData\\Roaming\\Python\\Python312\\site-packages\\pandas\\core\\series.py:1153\u001b[0m, in \u001b[0;36mSeries.__getitem__\u001b[1;34m(self, key)\u001b[0m\n\u001b[0;32m   1150\u001b[0m     key \u001b[38;5;241m=\u001b[39m np\u001b[38;5;241m.\u001b[39masarray(key, dtype\u001b[38;5;241m=\u001b[39m\u001b[38;5;28mbool\u001b[39m)\n\u001b[0;32m   1151\u001b[0m     \u001b[38;5;28;01mreturn\u001b[39;00m \u001b[38;5;28mself\u001b[39m\u001b[38;5;241m.\u001b[39m_get_rows_with_mask(key)\n\u001b[1;32m-> 1153\u001b[0m \u001b[38;5;28;01mreturn\u001b[39;00m \u001b[38;5;28mself\u001b[39m\u001b[38;5;241m.\u001b[39m_get_with(key)\n",
      "File \u001b[1;32m~\\AppData\\Roaming\\Python\\Python312\\site-packages\\pandas\\core\\series.py:1180\u001b[0m, in \u001b[0;36mSeries._get_with\u001b[1;34m(self, key)\u001b[0m\n\u001b[0;32m   1176\u001b[0m \u001b[38;5;28;01mif\u001b[39;00m key_type \u001b[38;5;241m==\u001b[39m \u001b[38;5;124m\"\u001b[39m\u001b[38;5;124minteger\u001b[39m\u001b[38;5;124m\"\u001b[39m:\n\u001b[0;32m   1177\u001b[0m     \u001b[38;5;66;03m# We need to decide whether to treat this as a positional indexer\u001b[39;00m\n\u001b[0;32m   1178\u001b[0m     \u001b[38;5;66;03m#  (i.e. self.iloc) or label-based (i.e. self.loc)\u001b[39;00m\n\u001b[0;32m   1179\u001b[0m     \u001b[38;5;28;01mif\u001b[39;00m \u001b[38;5;129;01mnot\u001b[39;00m \u001b[38;5;28mself\u001b[39m\u001b[38;5;241m.\u001b[39mindex\u001b[38;5;241m.\u001b[39m_should_fallback_to_positional:\n\u001b[1;32m-> 1180\u001b[0m         \u001b[38;5;28;01mreturn\u001b[39;00m \u001b[38;5;28mself\u001b[39m\u001b[38;5;241m.\u001b[39mloc[key]\n\u001b[0;32m   1181\u001b[0m     \u001b[38;5;28;01melse\u001b[39;00m:\n\u001b[0;32m   1182\u001b[0m         warnings\u001b[38;5;241m.\u001b[39mwarn(\n\u001b[0;32m   1183\u001b[0m             \u001b[38;5;66;03m# GH#50617\u001b[39;00m\n\u001b[0;32m   1184\u001b[0m             \u001b[38;5;124m\"\u001b[39m\u001b[38;5;124mSeries.__getitem__ treating keys as positions is deprecated. \u001b[39m\u001b[38;5;124m\"\u001b[39m\n\u001b[1;32m   (...)\u001b[0m\n\u001b[0;32m   1189\u001b[0m             stacklevel\u001b[38;5;241m=\u001b[39mfind_stack_level(),\n\u001b[0;32m   1190\u001b[0m         )\n",
      "File \u001b[1;32m~\\AppData\\Roaming\\Python\\Python312\\site-packages\\pandas\\core\\indexing.py:1191\u001b[0m, in \u001b[0;36m_LocationIndexer.__getitem__\u001b[1;34m(self, key)\u001b[0m\n\u001b[0;32m   1189\u001b[0m maybe_callable \u001b[38;5;241m=\u001b[39m com\u001b[38;5;241m.\u001b[39mapply_if_callable(key, \u001b[38;5;28mself\u001b[39m\u001b[38;5;241m.\u001b[39mobj)\n\u001b[0;32m   1190\u001b[0m maybe_callable \u001b[38;5;241m=\u001b[39m \u001b[38;5;28mself\u001b[39m\u001b[38;5;241m.\u001b[39m_check_deprecated_callable_usage(key, maybe_callable)\n\u001b[1;32m-> 1191\u001b[0m \u001b[38;5;28;01mreturn\u001b[39;00m \u001b[38;5;28mself\u001b[39m\u001b[38;5;241m.\u001b[39m_getitem_axis(maybe_callable, axis\u001b[38;5;241m=\u001b[39maxis)\n",
      "File \u001b[1;32m~\\AppData\\Roaming\\Python\\Python312\\site-packages\\pandas\\core\\indexing.py:1420\u001b[0m, in \u001b[0;36m_LocIndexer._getitem_axis\u001b[1;34m(self, key, axis)\u001b[0m\n\u001b[0;32m   1417\u001b[0m     \u001b[38;5;28;01mif\u001b[39;00m \u001b[38;5;28mhasattr\u001b[39m(key, \u001b[38;5;124m\"\u001b[39m\u001b[38;5;124mndim\u001b[39m\u001b[38;5;124m\"\u001b[39m) \u001b[38;5;129;01mand\u001b[39;00m key\u001b[38;5;241m.\u001b[39mndim \u001b[38;5;241m>\u001b[39m \u001b[38;5;241m1\u001b[39m:\n\u001b[0;32m   1418\u001b[0m         \u001b[38;5;28;01mraise\u001b[39;00m \u001b[38;5;167;01mValueError\u001b[39;00m(\u001b[38;5;124m\"\u001b[39m\u001b[38;5;124mCannot index with multidimensional key\u001b[39m\u001b[38;5;124m\"\u001b[39m)\n\u001b[1;32m-> 1420\u001b[0m     \u001b[38;5;28;01mreturn\u001b[39;00m \u001b[38;5;28mself\u001b[39m\u001b[38;5;241m.\u001b[39m_getitem_iterable(key, axis\u001b[38;5;241m=\u001b[39maxis)\n\u001b[0;32m   1422\u001b[0m \u001b[38;5;66;03m# nested tuple slicing\u001b[39;00m\n\u001b[0;32m   1423\u001b[0m \u001b[38;5;28;01mif\u001b[39;00m is_nested_tuple(key, labels):\n",
      "File \u001b[1;32m~\\AppData\\Roaming\\Python\\Python312\\site-packages\\pandas\\core\\indexing.py:1360\u001b[0m, in \u001b[0;36m_LocIndexer._getitem_iterable\u001b[1;34m(self, key, axis)\u001b[0m\n\u001b[0;32m   1357\u001b[0m \u001b[38;5;28mself\u001b[39m\u001b[38;5;241m.\u001b[39m_validate_key(key, axis)\n\u001b[0;32m   1359\u001b[0m \u001b[38;5;66;03m# A collection of keys\u001b[39;00m\n\u001b[1;32m-> 1360\u001b[0m keyarr, indexer \u001b[38;5;241m=\u001b[39m \u001b[38;5;28mself\u001b[39m\u001b[38;5;241m.\u001b[39m_get_listlike_indexer(key, axis)\n\u001b[0;32m   1361\u001b[0m \u001b[38;5;28;01mreturn\u001b[39;00m \u001b[38;5;28mself\u001b[39m\u001b[38;5;241m.\u001b[39mobj\u001b[38;5;241m.\u001b[39m_reindex_with_indexers(\n\u001b[0;32m   1362\u001b[0m     {axis: [keyarr, indexer]}, copy\u001b[38;5;241m=\u001b[39m\u001b[38;5;28;01mTrue\u001b[39;00m, allow_dups\u001b[38;5;241m=\u001b[39m\u001b[38;5;28;01mTrue\u001b[39;00m\n\u001b[0;32m   1363\u001b[0m )\n",
      "File \u001b[1;32m~\\AppData\\Roaming\\Python\\Python312\\site-packages\\pandas\\core\\indexing.py:1558\u001b[0m, in \u001b[0;36m_LocIndexer._get_listlike_indexer\u001b[1;34m(self, key, axis)\u001b[0m\n\u001b[0;32m   1555\u001b[0m ax \u001b[38;5;241m=\u001b[39m \u001b[38;5;28mself\u001b[39m\u001b[38;5;241m.\u001b[39mobj\u001b[38;5;241m.\u001b[39m_get_axis(axis)\n\u001b[0;32m   1556\u001b[0m axis_name \u001b[38;5;241m=\u001b[39m \u001b[38;5;28mself\u001b[39m\u001b[38;5;241m.\u001b[39mobj\u001b[38;5;241m.\u001b[39m_get_axis_name(axis)\n\u001b[1;32m-> 1558\u001b[0m keyarr, indexer \u001b[38;5;241m=\u001b[39m ax\u001b[38;5;241m.\u001b[39m_get_indexer_strict(key, axis_name)\n\u001b[0;32m   1560\u001b[0m \u001b[38;5;28;01mreturn\u001b[39;00m keyarr, indexer\n",
      "File \u001b[1;32m~\\AppData\\Roaming\\Python\\Python312\\site-packages\\pandas\\core\\indexes\\base.py:6200\u001b[0m, in \u001b[0;36mIndex._get_indexer_strict\u001b[1;34m(self, key, axis_name)\u001b[0m\n\u001b[0;32m   6197\u001b[0m \u001b[38;5;28;01melse\u001b[39;00m:\n\u001b[0;32m   6198\u001b[0m     keyarr, indexer, new_indexer \u001b[38;5;241m=\u001b[39m \u001b[38;5;28mself\u001b[39m\u001b[38;5;241m.\u001b[39m_reindex_non_unique(keyarr)\n\u001b[1;32m-> 6200\u001b[0m \u001b[38;5;28mself\u001b[39m\u001b[38;5;241m.\u001b[39m_raise_if_missing(keyarr, indexer, axis_name)\n\u001b[0;32m   6202\u001b[0m keyarr \u001b[38;5;241m=\u001b[39m \u001b[38;5;28mself\u001b[39m\u001b[38;5;241m.\u001b[39mtake(indexer)\n\u001b[0;32m   6203\u001b[0m \u001b[38;5;28;01mif\u001b[39;00m \u001b[38;5;28misinstance\u001b[39m(key, Index):\n\u001b[0;32m   6204\u001b[0m     \u001b[38;5;66;03m# GH 42790 - Preserve name from an Index\u001b[39;00m\n",
      "File \u001b[1;32m~\\AppData\\Roaming\\Python\\Python312\\site-packages\\pandas\\core\\indexes\\base.py:6252\u001b[0m, in \u001b[0;36mIndex._raise_if_missing\u001b[1;34m(self, key, indexer, axis_name)\u001b[0m\n\u001b[0;32m   6249\u001b[0m     \u001b[38;5;28;01mraise\u001b[39;00m \u001b[38;5;167;01mKeyError\u001b[39;00m(\u001b[38;5;124mf\u001b[39m\u001b[38;5;124m\"\u001b[39m\u001b[38;5;124mNone of [\u001b[39m\u001b[38;5;132;01m{\u001b[39;00mkey\u001b[38;5;132;01m}\u001b[39;00m\u001b[38;5;124m] are in the [\u001b[39m\u001b[38;5;132;01m{\u001b[39;00maxis_name\u001b[38;5;132;01m}\u001b[39;00m\u001b[38;5;124m]\u001b[39m\u001b[38;5;124m\"\u001b[39m)\n\u001b[0;32m   6251\u001b[0m not_found \u001b[38;5;241m=\u001b[39m \u001b[38;5;28mlist\u001b[39m(ensure_index(key)[missing_mask\u001b[38;5;241m.\u001b[39mnonzero()[\u001b[38;5;241m0\u001b[39m]]\u001b[38;5;241m.\u001b[39munique())\n\u001b[1;32m-> 6252\u001b[0m \u001b[38;5;28;01mraise\u001b[39;00m \u001b[38;5;167;01mKeyError\u001b[39;00m(\u001b[38;5;124mf\u001b[39m\u001b[38;5;124m\"\u001b[39m\u001b[38;5;132;01m{\u001b[39;00mnot_found\u001b[38;5;132;01m}\u001b[39;00m\u001b[38;5;124m not in index\u001b[39m\u001b[38;5;124m\"\u001b[39m)\n",
      "\u001b[1;31mKeyError\u001b[0m: '[278, 245, 9, 173, 124, 22, 388, 68, 324, 312, 33, 346, 86, 63, 131, 255, 203, 55, 271, 140, 77, 355, 76, 75, 268, 381, 101, 218, 208, 204, 281, 316, 93, 229, 392, 210, 320, 195, 39, 362, 84, 307, 0, 2, 104, 375, 11] not in index'"
     ]
    }
   ],
   "source": [
    "n_estimators = 100\n",
    "max_features = 3\n",
    "max_depth = 10\n",
    "min_samples_split = 2\n",
    "\n",
    "model = random_forest(X_train, y_train, n_estimators=100, max_features=3, max_depth=10, min_samples_split=2)"
   ]
  },
  {
   "cell_type": "code",
   "execution_count": 36,
   "id": "d465e9e4-1cfe-44bd-8b3e-c49d9ffb2d01",
   "metadata": {},
   "outputs": [
    {
     "ename": "NameError",
     "evalue": "name 'model' is not defined",
     "output_type": "error",
     "traceback": [
      "\u001b[1;31m---------------------------------------------------------------------------\u001b[0m",
      "\u001b[1;31mNameError\u001b[0m                                 Traceback (most recent call last)",
      "Cell \u001b[1;32mIn[36], line 1\u001b[0m\n\u001b[1;32m----> 1\u001b[0m preds \u001b[38;5;241m=\u001b[39m predict_rf(model, X_test)\n\u001b[0;32m      2\u001b[0m acc \u001b[38;5;241m=\u001b[39m \u001b[38;5;28msum\u001b[39m(preds \u001b[38;5;241m==\u001b[39m y_test) \u001b[38;5;241m/\u001b[39m \u001b[38;5;28mlen\u001b[39m(y_test)\n\u001b[0;32m      3\u001b[0m \u001b[38;5;28mprint\u001b[39m(\u001b[38;5;124m\"\u001b[39m\u001b[38;5;124mTesting accuracy: \u001b[39m\u001b[38;5;132;01m{}\u001b[39;00m\u001b[38;5;124m\"\u001b[39m\u001b[38;5;241m.\u001b[39mformat(np\u001b[38;5;241m.\u001b[39mround(acc,\u001b[38;5;241m3\u001b[39m)))\n",
      "\u001b[1;31mNameError\u001b[0m: name 'model' is not defined"
     ]
    }
   ],
   "source": [
    "preds = predict_rf(model, X_test)\n",
    "acc = sum(preds == y_test) / len(y_test)\n",
    "print(\"Testing accuracy: {}\".format(np.round(acc,3)))"
   ]
  },
  {
   "cell_type": "code",
   "execution_count": null,
   "id": "8f045972-c140-4c8e-865d-f961aa3afdca",
   "metadata": {},
   "outputs": [],
   "source": []
  },
  {
   "cell_type": "markdown",
   "id": "6764ea6d-4baf-40ef-9d35-224594e35441",
   "metadata": {},
   "source": [
    "# Random Forest"
   ]
  },
  {
   "cell_type": "code",
   "execution_count": 57,
   "id": "ac0a17a8-13a2-43d4-8d81-b5e25bc719f3",
   "metadata": {},
   "outputs": [],
   "source": [
    "from sklearn.tree import DecisionTreeClassifier\n",
    "from sklearn.metrics import accuracy_score, confusion_matrix,classification_report\n",
    "class RandomForestClassifierScratch:\n",
    "    def __init__(self, n_estimators=100, max_features=None, max_depth=None):\n",
    "        self.n_estimators = n_estimators  # Number of trees in the forest\n",
    "        self.max_features = max_features  # Max features to consider for splits\n",
    "        self.max_depth = max_depth        # Max depth of each tree\n",
    "        self.trees = []                   # List to hold the trees\n",
    "\n",
    "    def _bootstrap_sample(self, X, y):\n",
    "        n_samples = X.shape[0]\n",
    "        # Sample with replacement\n",
    "        indices = np.random.choice(n_samples, size=n_samples, replace=True)\n",
    "        return X.iloc[indices], y.iloc[indices]\n",
    "\n",
    "    def fit(self, X, y):\n",
    "        # Fit multiple decision trees to create the random forest\n",
    "        for _ in range(self.n_estimators):\n",
    "            tree = DecisionTreeClassifier(max_features=self.max_features, max_depth=self.max_depth)\n",
    "            # Bootstrap sample\n",
    "            X_sample, y_sample = self._bootstrap_sample(X, y)\n",
    "            tree.fit(X_sample, y_sample)\n",
    "            self.trees.append(tree)\n",
    "\n",
    "    def predict(self, X):\n",
    "        # Get predictions from all trees\n",
    "        tree_preds = np.zeros((X.shape[0], len(self.trees)))\n",
    "        for i, tree in enumerate(self.trees):\n",
    "            tree_preds[:, i] = tree.predict(X)\n",
    "        # Majority voting: most common prediction from all trees\n",
    "        return [np.bincount(tree_preds[i].astype(int)).argmax() for i in range(X.shape[0])]\n",
    "\n",
    "    def predict_proba(self, X):\n",
    "        # Get class probabilities from all trees\n",
    "        tree_probas = np.zeros((X.shape[0], len(self.trees), len(np.unique(self.trees[0].classes_))))\n",
    "        for i, tree in enumerate(self.trees):\n",
    "            tree_probas[:, i, :] = tree.predict_proba(X)\n",
    "        # Average probabilities across all trees\n",
    "        return np.mean(tree_probas, axis=1)\n",
    "\n",
    "    def score(self, X, y):\n",
    "        # Return the accuracy of the random forest on the given dataset\n",
    "        y_pred = self.predict(X)\n",
    "        return accuracy_score(y, y_pred)\n",
    "\n"
   ]
  },
  {
   "cell_type": "code",
   "execution_count": 59,
   "id": "f46e0663-731c-4c08-ad35-afd046a27541",
   "metadata": {},
   "outputs": [
    {
     "name": "stdout",
     "output_type": "stream",
     "text": [
      "Accuracy: 0.8137254901960784\n",
      "Confusion Matrix:\n",
      " [[46  6]\n",
      " [13 37]]\n",
      "Classification Report:\n",
      "               precision    recall  f1-score   support\n",
      "\n",
      "           0       0.78      0.88      0.83        52\n",
      "           1       0.86      0.74      0.80        50\n",
      "\n",
      "    accuracy                           0.81       102\n",
      "   macro avg       0.82      0.81      0.81       102\n",
      "weighted avg       0.82      0.81      0.81       102\n",
      "\n"
     ]
    }
   ],
   "source": [
    "# Initialize Random Forest Classifier\n",
    "rfc_scratch = RandomForestClassifierScratch(n_estimators=100, max_features=\"sqrt\", max_depth=10)\n",
    "\n",
    "# Train the model\n",
    "rfc_scratch.fit(X_train, y_train)\n",
    "\n",
    "# Make predictions\n",
    "y_pred = rfc_scratch.predict(X_test)\n",
    "\n",
    "# Print evaluation metrics\n",
    "print('Accuracy:', accuracy_score(y_test, y_pred))\n",
    "print('Confusion Matrix:\\n', confusion_matrix(y_test, y_pred))\n",
    "print('Classification Report:\\n', classification_report(y_test, y_pred))"
   ]
  },
  {
   "cell_type": "code",
   "execution_count": 60,
   "id": "ce483951-6490-4649-ba37-e6624d545c6c",
   "metadata": {},
   "outputs": [
    {
     "name": "stdout",
     "output_type": "stream",
     "text": [
      "Accuracy: 0.8137254901960784\n",
      "Precision: 0.8604651162790697\n",
      "Recall: 0.74\n",
      "F1 Score: 0.7956989247311828\n"
     ]
    }
   ],
   "source": [
    "# random forest (collection of decision trees)\n",
    "# applying random forest classifier to derive the model\n",
    "from sklearn.ensemble import RandomForestClassifier\n",
    "from sklearn.metrics import accuracy_score, precision_score, recall_score, f1_score, confusion_matrix, classification_report\n",
    "\n",
    "\n",
    "\n",
    "# evaluate the performance of the model using random forest classifier\n",
    "print('Accuracy:', accuracy_score(y_test, y_pred))\n",
    "print('Precision:', precision_score(y_test, y_pred))\n",
    "print('Recall:', recall_score(y_test, y_pred))\n",
    "print('F1 Score:', f1_score(y_test, y_pred))\n"
   ]
  },
  {
   "cell_type": "code",
   "execution_count": 61,
   "id": "f64bb0f8-28a5-4150-9a33-1591b244b1d3",
   "metadata": {},
   "outputs": [
    {
     "data": {
      "image/png": "[encoded data removed]",
      "text/plain": [
       "<Figure size 640x480 with 2 Axes>"
      ]
     },
     "metadata": {},
     "output_type": "display_data"
    }
   ],
   "source": [
    "from sklearn.metrics import ConfusionMatrixDisplay\n",
    "#confusion matrix\n",
    "cm = confusion_matrix(y_test,y_pred)\n",
    "\n",
    "#display\n",
    "display = ConfusionMatrixDisplay(confusion_matrix = cm,display_labels = [\"no stone\",\"stone\"])\n",
    "display.plot()\n",
    "plt.title(\"confusion matrix\")\n",
    "plt.show()"
   ]
  },
  {
   "cell_type": "code",
   "execution_count": 62,
   "id": "7079a263",
   "metadata": {},
   "outputs": [
    {
     "data": {
      "text/plain": [
       "['random_forest.joblib']"
      ]
     },
     "execution_count": 62,
     "metadata": {},
     "output_type": "execute_result"
    }
   ],
   "source": [
    "from joblib import dump, load\n",
    "# Save the best model\n",
    "dump(rfc_scratch, 'random_forest.joblib')"
   ]
  },
  {
   "cell_type": "code",
   "execution_count": 63,
   "id": "6aac3bc4",
   "metadata": {},
   "outputs": [],
   "source": [
    "loaded_model = load('random_forest.joblib')"
   ]
  },
  {
   "cell_type": "code",
   "execution_count": 67,
   "id": "c9446f7d",
   "metadata": {},
   "outputs": [
    {
     "name": "stdin",
     "output_type": "stream",
     "text": [
      "Enter gravity:  1.021\n",
      "Enter ph:   4.91\n",
      "Enter osmo:  725\n",
      "Enter cond:  14\n",
      "Enter urea:  443\n",
      "Enter calc:  2.45\n"
     ]
    }
   ],
   "source": [
    "gravity=float(input(\"Enter gravity: \"))\n",
    "ph=float(input(\"Enter ph: \"))\n",
    "osmo=float(input(\"Enter osmo: \"))\n",
    "cond=float(input(\"Enter cond: \"))\n",
    "urea=float(input(\"Enter urea: \"))\n",
    "calc=float(input(\"Enter calc: \"))"
   ]
  },
  {
   "cell_type": "code",
   "execution_count": 70,
   "id": "7ba24989",
   "metadata": {},
   "outputs": [],
   "source": [
    "input_data = pd.DataFrame({\n",
    "        'gravity': [gravity],\n",
    "       'ph': [ph],\n",
    "        'osmo': [osmo],\n",
    "     \n",
    "        'cond': [cond],\n",
    "        'urea': [urea],\n",
    "        'calc': [calc]\n",
    "    })"
   ]
  },
  {
   "cell_type": "code",
   "execution_count": 71,
   "id": "4af8b90d",
   "metadata": {},
   "outputs": [],
   "source": [
    "prediction = loaded_model.predict(input_data)"
   ]
  },
  {
   "cell_type": "code",
   "execution_count": 72,
   "id": "a5e6154e",
   "metadata": {},
   "outputs": [
    {
     "name": "stdout",
     "output_type": "stream",
     "text": [
      "[0]\n"
     ]
    }
   ],
   "source": [
    "print(prediction)"
   ]
  },
  {
   "cell_type": "code",
   "execution_count": 74,
   "id": "8208f7f2",
   "metadata": {},
   "outputs": [
    {
     "name": "stdout",
     "output_type": "stream",
     "text": [
      "[[0.59630143 0.40369857]]\n"
     ]
    }
   ],
   "source": [
    "probability = loaded_model.predict_proba(input_data)\n",
    "print(probability)"
   ]
  },
  {
   "cell_type": "code",
   "execution_count": 76,
   "id": "77554cf6-def4-4901-9e51-46e82664c3cb",
   "metadata": {},
   "outputs": [
    {
     "data": {
      "text/plain": [
       "0.5963014254036421"
      ]
     },
     "execution_count": 76,
     "metadata": {},
     "output_type": "execute_result"
    }
   ],
   "source": [
    "probability[0][0]"
   ]
  },
  {
   "cell_type": "markdown",
   "id": "d64f7926",
   "metadata": {},
   "source": [
    "'lgbm__n_estimators': [100],          # Set fixed value of 100\n",
    "    'lgbm__learning_rate': [0.1],         # Fixed to 0.1 based on previous run\n",
    "    'lgbm__max_depth': [7],               # Fixed to 7\n",
    "    'lgbm__min_child_samples': [20],      # Fixed to 20\n",
    "    'lgbm__colsample_bytree': [0.8]       # Fixed to 0.8\n"
   ]
  },
  {
   "cell_type": "markdown",
   "id": "0f0638f1",
   "metadata": {},
   "source": [
    "# input prediction"
   ]
  },
  {
   "cell_type": "code",
   "execution_count": 43,
   "id": "06d495f0",
   "metadata": {},
   "outputs": [
    {
     "name": "stdout",
     "output_type": "stream",
     "text": [
      "Enter gravity: 1.021\n",
      "Enter ph: 4.91\n",
      "Enter osmo: 725\n",
      "Enter cond: 14.0\n",
      "Enter urea: 443\n",
      "Enter calc: 2.45\n"
     ]
    }
   ],
   "source": [
    "gravity=float(input(\"Enter gravity: \"))\n",
    "ph=float(input(\"Enter ph: \"))\n",
    "osmo=float(input(\"Enter osmo: \"))\n",
    "cond=float(input(\"Enter cond: \"))\n",
    "urea=float(input(\"Enter urea: \"))\n",
    "calc=float(input(\"Enter calc: \"))"
   ]
  },
  {
   "cell_type": "code",
   "execution_count": 44,
   "id": "528a0c9b",
   "metadata": {},
   "outputs": [],
   "source": [
    "input_data = pd.DataFrame({\n",
    "        'gravity': [gravity],\n",
    "        'osmo': [osmo],\n",
    "        'ph': [ph],\n",
    "        'cond': [cond],\n",
    "        'urea': [urea],\n",
    "        'calc': [calc]\n",
    "    })"
   ]
  },
  {
   "cell_type": "code",
   "execution_count": 45,
   "id": "0180c433",
   "metadata": {},
   "outputs": [],
   "source": [
    "prediction = model_lgbm.predict(input_data)"
   ]
  },
  {
   "cell_type": "code",
   "execution_count": 46,
   "id": "30abe0d7",
   "metadata": {},
   "outputs": [
    {
     "name": "stdout",
     "output_type": "stream",
     "text": [
      "[0]\n"
     ]
    }
   ],
   "source": [
    "print(prediction)"
   ]
  },
  {
   "cell_type": "code",
   "execution_count": 47,
   "id": "6aff4033",
   "metadata": {},
   "outputs": [
    {
     "name": "stdout",
     "output_type": "stream",
     "text": [
      "[[0.51304657 0.48695343]]\n"
     ]
    }
   ],
   "source": [
    "probability = model_lgbm.predict_proba(input_data)\n",
    "print(probability)"
   ]
  },
  {
   "cell_type": "code",
   "execution_count": 48,
   "id": "4538a5ce",
   "metadata": {},
   "outputs": [
    {
     "name": "stdout",
     "output_type": "stream",
     "text": [
      "probability no stone:  0.513046572016896\n"
     ]
    }
   ],
   "source": [
    "print(\"probability no stone: \",probability[0][0])"
   ]
  },
  {
   "cell_type": "code",
   "execution_count": 49,
   "id": "cd8d7ec2",
   "metadata": {},
   "outputs": [
    {
     "name": "stdout",
     "output_type": "stream",
     "text": [
      "probability of stone:  0.48695342798310404\n"
     ]
    }
   ],
   "source": [
    "print(\"probability of stone: \",probability[0][1])"
   ]
  },
  {
   "cell_type": "code",
   "execution_count": 50,
   "id": "a04f9dc5",
   "metadata": {},
   "outputs": [
    {
     "data": {
      "text/plain": [
       "['lgbm.joblib']"
      ]
     },
     "execution_count": 50,
     "metadata": {},
     "output_type": "execute_result"
    }
   ],
   "source": [
    "from joblib import dump, load\n",
    "# Save the best model\n",
    "dump(model_lgbm, 'lgbm.joblib')"
   ]
  },
  {
   "cell_type": "code",
   "execution_count": 51,
   "id": "281aeb3b",
   "metadata": {},
   "outputs": [],
   "source": [
    "model= load('lgbm.joblib')"
   ]
  },
  {
   "cell_type": "code",
   "execution_count": 54,
   "id": "c12c9c8f",
   "metadata": {},
   "outputs": [],
   "source": [
    "prob=model.predict_proba(input_data)"
   ]
  },
  {
   "cell_type": "code",
   "execution_count": 55,
   "id": "0206d586",
   "metadata": {},
   "outputs": [
    {
     "data": {
      "text/plain": [
       "0.513046572016896"
      ]
     },
     "execution_count": 55,
     "metadata": {},
     "output_type": "execute_result"
    }
   ],
   "source": [
    "prob[0][0]"
   ]
  },
  {
   "cell_type": "markdown",
   "id": "757efdeb",
   "metadata": {},
   "source": [
    "# Visualization"
   ]
  },
  {
   "cell_type": "code",
   "execution_count": 31,
   "id": "2807ce20",
   "metadata": {},
   "outputs": [],
   "source": [
    "results_df = pd.DataFrame({\n",
    "    'Actual': y_test.values,\n",
    "    'Predicted': Y_pred_lgbm\n",
    "})"
   ]
  },
  {
   "cell_type": "code",
   "execution_count": 34,
   "id": "9a5b2211",
   "metadata": {},
   "outputs": [],
   "source": [
    "# Create counts for Actual and Predicted\n",
    "actual_counts = results_df['Actual'].value_counts().reset_index()\n",
    "actual_counts.columns = ['Category', 'Count']\n",
    "predicted_counts = results_df['Predicted'].value_counts().reset_index()\n",
    "predicted_counts.columns = ['Category', 'Count']"
   ]
  },
  {
   "cell_type": "code",
   "execution_count": 36,
   "id": "f6f0e35e",
   "metadata": {},
   "outputs": [
    {
     "data": {
      "image/png": "[encoded data removed]",
      "text/plain": [
       "<Figure size 1200x500 with 2 Axes>"
      ]
     },
     "metadata": {},
     "output_type": "display_data"
    }
   ],
   "source": [
    "# Create side-by-side bar plots using Seaborn\n",
    "fig, axes = plt.subplots(1, 2, figsize=(12, 5), sharey=True)\n",
    "\n",
    "# Plot Predicted Categories\n",
    "sns.barplot(data=predicted_counts, x='Category', y='Count', ax=axes[0], palette='Blues_d')\n",
    "axes[0].set_title('Predicted Categories')\n",
    "axes[0].set_xlabel('Category')\n",
    "axes[0].set_ylabel('Count')\n",
    "\n",
    "# Plot Actual Categories\n",
    "sns.barplot(data=actual_counts, x='Category', y='Count', ax=axes[1], palette='Greens_d')\n",
    "axes[1].set_title('Actual Categories')\n",
    "axes[1].set_xlabel('Category')\n",
    "\n",
    "# Adjust layout to prevent overlap\n",
    "plt.tight_layout()\n",
    "\n",
    "# Show the plots\n",
    "plt.show()"
   ]
  },
  {
   "cell_type": "code",
   "execution_count": 37,
   "id": "ff20949c",
   "metadata": {},
   "outputs": [
    {
     "name": "stdout",
     "output_type": "stream",
     "text": [
      "Precision: 0.8444444444444444\n",
      "Recall: 0.76\n",
      "F1 Score: 0.8\n",
      "Classification report:               precision    recall  f1-score   support\n",
      "\n",
      "           0       0.79      0.87      0.83        52\n",
      "           1       0.84      0.76      0.80        50\n",
      "\n",
      "    accuracy                           0.81       102\n",
      "   macro avg       0.82      0.81      0.81       102\n",
      "weighted avg       0.82      0.81      0.81       102\n",
      "\n"
     ]
    }
   ],
   "source": [
    "from sklearn.metrics import precision_score, recall_score, f1_score, confusion_matrix, classification_report\n",
    "print('Precision:', precision_score(y_test, Y_pred_lgbm))\n",
    "print('Recall:', recall_score(y_test, Y_pred_lgbm))\n",
    "print('F1 Score:', f1_score(y_test, Y_pred_lgbm))\n",
    "print('Classification report:', classification_report(y_test, Y_pred_lgbm))"
   ]
  },
  {
   "cell_type": "code",
   "execution_count": 38,
   "id": "e6f1710c",
   "metadata": {},
   "outputs": [
    {
     "data": {
      "image/png": "[encoded data removed]",
      "text/plain": [
       "<Figure size 640x480 with 2 Axes>"
      ]
     },
     "metadata": {},
     "output_type": "display_data"
    }
   ],
   "source": [
    "from sklearn.metrics import confusion_matrix\n",
    "cm = confusion_matrix(y_test, model_lgbm.predict(X_test))\n",
    "\n",
    "sns.heatmap(cm, annot=True, fmt='d', cmap='BuPu')\n",
    "\n",
    "plt.xlabel('Predicted Labels')\n",
    "plt.ylabel('True Labels')\n",
    "plt.title('Confusion Matrix')\n",
    "\n",
    "plt.show()"
   ]
  },
  {
   "cell_type": "code",
   "execution_count": 39,
   "id": "e4f30ed5",
   "metadata": {},
   "outputs": [],
   "source": [
    "from sklearn.metrics import confusion_matrix\n",
    "cm = confusion_matrix(y_test, model_lgbm.predict(X_test))"
   ]
  },
  {
   "cell_type": "code",
   "execution_count": 40,
   "id": "afe7f923",
   "metadata": {},
   "outputs": [
    {
     "data": {
      "text/plain": [
       "array([[45,  7],\n",
       "       [12, 38]], dtype=int64)"
      ]
     },
     "execution_count": 40,
     "metadata": {},
     "output_type": "execute_result"
    }
   ],
   "source": [
    "cm"
   ]
  },
  {
   "cell_type": "code",
   "execution_count": null,
   "id": "8f12ad56",
   "metadata": {},
   "outputs": [],
   "source": []
  }
 ],
 "metadata": {
  "kernelspec": {
   "display_name": "Python 3 (ipykernel)",
   "language": "python",
   "name": "python3"
  },
  "language_info": {
   "codemirror_mode": {
    "name": "ipython",
    "version": 3
   },
   "file_extension": ".py",
   "mimetype": "text/x-python",
   "name": "python",
   "nbconvert_exporter": "python",
   "pygments_lexer": "ipython3",
   "version": "3.12.7"
  }
 },
 "nbformat": 4,
 "nbformat_minor": 5
}
